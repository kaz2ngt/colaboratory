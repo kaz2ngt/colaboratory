{
  "nbformat": 4,
  "nbformat_minor": 0,
  "metadata": {
    "colab": {
      "name": "12.ipynb",
      "version": "0.3.2",
      "provenance": [],
      "collapsed_sections": [],
      "toc_visible": true,
      "include_colab_link": true
    },
    "kernelspec": {
      "name": "python3",
      "display_name": "Python 3"
    },
    "accelerator": "GPU"
  },
  "cells": [
    {
      "cell_type": "markdown",
      "metadata": {
        "id": "view-in-github",
        "colab_type": "text"
      },
      "source": [
        "<a href=\"https://colab.research.google.com/github/kaz2ngt/colaboratory/blob/master/12.ipynb\" target=\"_parent\"><img src=\"https://colab.research.google.com/assets/colab-badge.svg\" alt=\"Open In Colab\"/></a>"
      ]
    },
    {
      "cell_type": "markdown",
      "metadata": {
        "id": "1OhZvfh5f7ZO",
        "colab_type": "text"
      },
      "source": [
        "# 事前準備: ドライブのマウントとデータの取得"
      ]
    },
    {
      "cell_type": "code",
      "metadata": {
        "id": "0DGhBkrkf-nx",
        "colab_type": "code",
        "outputId": "a5bad33a-fc4c-499f-bc71-670db4208bb4",
        "colab": {
          "base_uri": "https://localhost:8080/",
          "height": 54
        }
      },
      "source": [
        "# Google ドライブをマウントするには、このセルを実行してください。\n",
        "from google.colab import drive\n",
        "drive.mount('/content/drive')"
      ],
      "execution_count": 0,
      "outputs": [
        {
          "output_type": "stream",
          "text": [
            "Drive already mounted at /content/drive; to attempt to forcibly remount, call drive.mount(\"/content/drive\", force_remount=True).\n"
          ],
          "name": "stdout"
        }
      ]
    },
    {
      "cell_type": "code",
      "metadata": {
        "id": "9PpStTZof_V3",
        "colab_type": "code",
        "colab": {}
      },
      "source": [
        "# 下記でdriveからコピーして解凍\n",
        "#!cp drive/My\\ Drive/Colab\\ Notebooks/12data.zip ./\n",
        "#!unzip 12data.zip"
      ],
      "execution_count": 0,
      "outputs": []
    },
    {
      "cell_type": "markdown",
      "metadata": {
        "id": "bKgBwI6G8aRO",
        "colab_type": "text"
      },
      "source": [
        "# リストPART2"
      ]
    },
    {
      "cell_type": "code",
      "metadata": {
        "id": "WZrZwgeF8cih",
        "colab_type": "code",
        "colab": {}
      },
      "source": [
        "import os\n",
        "import glob\n",
        "import math\n",
        "import random\n",
        "\n",
        "import numpy as np\n",
        "import matplotlib.pyplot as plt\n",
        "\n",
        "from tensorflow.python import keras\n",
        "from tensorflow.python.keras import backend as K\n",
        "from tensorflow.python.keras.models import Model, Sequential\n",
        "from tensorflow.python.keras.layers import Conv2D, Dense, Input, MaxPooling2D, UpSampling2D, Lambda\n",
        "from tensorflow.python.keras.preprocessing.image import load_img, img_to_array, array_to_img, ImageDataGenerator"
      ],
      "execution_count": 0,
      "outputs": []
    },
    {
      "cell_type": "code",
      "metadata": {
        "id": "Qgk8jxkkXDfl",
        "colab_type": "code",
        "colab": {}
      },
      "source": [
        "# 足りないimport追加\n",
        "from tensorflow.python.keras.layers import Flatten, Reshape"
      ],
      "execution_count": 0,
      "outputs": []
    },
    {
      "cell_type": "markdown",
      "metadata": {
        "id": "DkS8po7YArEp",
        "colab_type": "text"
      },
      "source": [
        "# 12_1: 画像データの読み込み"
      ]
    },
    {
      "cell_type": "code",
      "metadata": {
        "id": "Z5gK8aJTNb4J",
        "colab_type": "code",
        "outputId": "904edd41-4f36-4954-effb-5189e8c1fe89",
        "colab": {
          "base_uri": "https://localhost:8080/",
          "height": 34
        }
      },
      "source": [
        "DATA_DIR = 'data/chap12/'\n",
        "BATCH_SIZE = 16\n",
        "IMG_SHAPE = (64, 64, 3)\n",
        "\n",
        "data_gen = ImageDataGenerator(rescale=1/255.)\n",
        "train_data_generator = data_gen.flow_from_directory(\n",
        "    directory=DATA_DIR,\n",
        "    classes=['faces'],\n",
        "    class_mode=None,\n",
        "    batch_size=BATCH_SIZE,\n",
        "    target_size=IMG_SHAPE[:2]\n",
        ")"
      ],
      "execution_count": 0,
      "outputs": [
        {
          "output_type": "stream",
          "text": [
            "Found 19370 images belonging to 1 classes.\n"
          ],
          "name": "stdout"
        }
      ]
    },
    {
      "cell_type": "markdown",
      "metadata": {
        "id": "tkSlBBB8PAND",
        "colab_type": "text"
      },
      "source": [
        "# 12_2: Encoderの定義"
      ]
    },
    {
      "cell_type": "code",
      "metadata": {
        "id": "IciFPcPFPHFL",
        "colab_type": "code",
        "colab": {}
      },
      "source": [
        "def build_encoder(input_shape, z_size, n_filters, n_layers):\n",
        "  \"\"\"Encoderを構築する\n",
        "\n",
        "  Arguments:\n",
        "    input_shape (int): 画像のshape\n",
        "    z_size (int): 特徴空間の次元数\n",
        "    n_filters (int): フィルタ数\n",
        "\n",
        "  Returns:\n",
        "   model (Model): Encoderモデル\n",
        "  \"\"\"\n",
        "  model = Sequential()\n",
        "  model.add(\n",
        "      Conv2D(\n",
        "          n_filters,\n",
        "          3,\n",
        "          activation='elu',\n",
        "          input_shape=input_shape,\n",
        "          padding='same'\n",
        "      )\n",
        "  )\n",
        "  model.add(Conv2D(n_filters, 3, padding='same'))\n",
        "  for i in range(2, n_layers + 1):\n",
        "    model.add(\n",
        "        Conv2D(\n",
        "            i*n_filters,\n",
        "            3,\n",
        "            activation='elu',\n",
        "            padding='same'\n",
        "        )\n",
        "    )\n",
        "    model.add(\n",
        "        Conv2D(\n",
        "            i*n_filters,\n",
        "            3,\n",
        "            activation='elu',\n",
        "            strides=2,\n",
        "            padding='same'\n",
        "        )\n",
        "    )\n",
        "  model.add(Conv2D(n_layers*n_filters, 3, padding='same'))\n",
        "  model.add(Flatten())\n",
        "  model.add(Dense(z_size))\n",
        "\n",
        "  return model"
      ],
      "execution_count": 0,
      "outputs": []
    },
    {
      "cell_type": "markdown",
      "metadata": {
        "id": "XieTuBn3RBCO",
        "colab_type": "text"
      },
      "source": [
        "# 12_3: Generator/Decoderの定義"
      ]
    },
    {
      "cell_type": "code",
      "metadata": {
        "id": "SY9nAR60RHi8",
        "colab_type": "code",
        "colab": {}
      },
      "source": [
        "def build_decoder(output_shape, z_size, n_filters, n_layers):\n",
        "  \"\"\"Decoderを構築する\n",
        "\n",
        "  Arguments:\n",
        "    output_shape (np.array): 画像のshape\n",
        "    z_site (int): 特徴空間の次元数\n",
        "    n_filters (int): フィルタ数\n",
        "    n_layers (int): レイヤー数\n",
        "\n",
        "  Returns:\n",
        "    model (Model):  Decoderモデル\n",
        "  \"\"\"\n",
        "  # UpSampling2Dで何倍に拡大されるか\n",
        "  scale = 2**(n_layers - 1)\n",
        "  # 最初の畳み込み層の入力サイズをscaleから逆算\n",
        "  fc_shape = (\n",
        "      output_shape[0]//scale,\n",
        "      output_shape[1]//scale,\n",
        "      n_filters\n",
        " )\n",
        "  # 全結合層で必要なサイズを逆算\n",
        "  fc_size = fc_shape[0]*fc_shape[1]*fc_shape[2]\n",
        "\n",
        "  model = Sequential()\n",
        "  # 全結合層\n",
        "  model.add(Dense(fc_size, input_shape=(z_size,)))\n",
        "  model.add(Reshape(fc_shape))\n",
        "\n",
        "  # 畳み込み層の繰り返し\n",
        "  for i in range(n_layers - 1):\n",
        "    model.add(\n",
        "        Conv2D(\n",
        "            n_filters,\n",
        "            3,\n",
        "            activation='elu',\n",
        "            padding='same'\n",
        "        )\n",
        "    )\n",
        "    model.add(\n",
        "        Conv2D(\n",
        "            n_filters,\n",
        "            3,\n",
        "            activation='elu',\n",
        "            padding='same'\n",
        "        )\n",
        "    )\n",
        "    model.add(UpSampling2D())\n",
        "\n",
        "  # 最後の層はUpSampling2Dが不要\n",
        "  model.add(\n",
        "      Conv2D(\n",
        "          n_filters,\n",
        "          3,\n",
        "          activation='elu',\n",
        "          padding='same',\n",
        "      )\n",
        "  )\n",
        "  model.add(\n",
        "      Conv2D(\n",
        "          n_filters,\n",
        "          3,\n",
        "          activation='elu',\n",
        "          padding='same'\n",
        "      )\n",
        "  )\n",
        "  # 出力層で3チャンネルに\n",
        "  model.add(Conv2D(3, 3, padding='same'))\n",
        "\n",
        "  return model"
      ],
      "execution_count": 0,
      "outputs": []
    },
    {
      "cell_type": "markdown",
      "metadata": {
        "id": "vwZNSU4GTW4J",
        "colab_type": "text"
      },
      "source": [
        "# 12_4: Generatorの定義"
      ]
    },
    {
      "cell_type": "code",
      "metadata": {
        "id": "ondSX_g2TZky",
        "colab_type": "code",
        "colab": {}
      },
      "source": [
        "def build_generator(img_shape, z_size, n_filters, n_layers):\n",
        "  decoder = build_decoder(\n",
        "      img_shape, z_size, n_filters, n_layers\n",
        "  )\n",
        "  return decoder"
      ],
      "execution_count": 0,
      "outputs": []
    },
    {
      "cell_type": "markdown",
      "metadata": {
        "id": "_SS_C1RETnTY",
        "colab_type": "text"
      },
      "source": [
        "# 12_5: Discriminatorの定義"
      ]
    },
    {
      "cell_type": "code",
      "metadata": {
        "id": "xsbrzAg3Tq6-",
        "colab_type": "code",
        "colab": {}
      },
      "source": [
        "def build_discriminator(img_shape, z_size, n_filters, n_layers):\n",
        "  encoder = build_encoder(\n",
        "      img_shape, z_size, n_filters, n_layers\n",
        "  )\n",
        "  decoder = build_decoder(\n",
        "      img_shape, z_size, n_filters, n_layers\n",
        "  )\n",
        "  return Sequential((encoder, decoder))"
      ],
      "execution_count": 0,
      "outputs": []
    },
    {
      "cell_type": "markdown",
      "metadata": {
        "id": "pd1PacHDVj3k",
        "colab_type": "text"
      },
      "source": [
        "# 12_6: Discriminatorの学習用のネットワーク"
      ]
    },
    {
      "cell_type": "code",
      "metadata": {
        "id": "iX9vVymNVqqq",
        "colab_type": "code",
        "colab": {}
      },
      "source": [
        "def build_discriminator_trainer(discriminator):\n",
        "  img_shape = discriminator.input_shape[1:]\n",
        "  real_inputs = Input(img_shape)\n",
        "  fake_inputs = Input(img_shape)\n",
        "  real_outputs = discriminator(real_inputs)\n",
        "  fake_outputs = discriminator(fake_inputs)\n",
        "\n",
        "  return Model(\n",
        "      inputs=[real_inputs, fake_inputs],\n",
        "      outputs=[real_outputs, fake_outputs]\n",
        "  )"
      ],
      "execution_count": 0,
      "outputs": []
    },
    {
      "cell_type": "markdown",
      "metadata": {
        "id": "G4XtizLJWHUW",
        "colab_type": "text"
      },
      "source": [
        "# 12_7: ネットワークの構築"
      ]
    },
    {
      "cell_type": "code",
      "metadata": {
        "id": "PCN8k558WLGU",
        "colab_type": "code",
        "colab": {
          "base_uri": "https://localhost:8080/",
          "height": 1000
        },
        "outputId": "d6489af7-1b6f-463c-f39a-daf78ba52dff"
      },
      "source": [
        "n_filters = 64 # フィルタ数\n",
        "n_layers = 4# レイヤー数\n",
        "z_size = 32 # 特徴空間の次元数\n",
        "\n",
        "generator = build_generator(\n",
        "    IMG_SHAPE, z_size, n_filters, n_layers\n",
        ")\n",
        "discriminator = build_discriminator(\n",
        "    IMG_SHAPE, z_size, n_filters, n_layers\n",
        ")\n",
        "discriminator_trainer  =  build_discriminator_trainer(\n",
        "    discriminator\n",
        ")\n",
        "\n",
        "generator.summary()\n",
        "# discriminator.layers[1]が Decoder を表す\n",
        "discriminator.layers[1].summary()"
      ],
      "execution_count": 57,
      "outputs": [
        {
          "output_type": "stream",
          "text": [
            "Model: \"sequential_45\"\n",
            "_________________________________________________________________\n",
            "Layer (type)                 Output Shape              Param #   \n",
            "=================================================================\n",
            "dense_34 (Dense)             (None, 4096)              135168    \n",
            "_________________________________________________________________\n",
            "reshape_22 (Reshape)         (None, 8, 8, 64)          0         \n",
            "_________________________________________________________________\n",
            "conv2d_306 (Conv2D)          (None, 8, 8, 64)          36928     \n",
            "_________________________________________________________________\n",
            "conv2d_307 (Conv2D)          (None, 8, 8, 64)          36928     \n",
            "_________________________________________________________________\n",
            "up_sampling2d_66 (UpSampling (None, 16, 16, 64)        0         \n",
            "_________________________________________________________________\n",
            "conv2d_308 (Conv2D)          (None, 16, 16, 64)        36928     \n",
            "_________________________________________________________________\n",
            "conv2d_309 (Conv2D)          (None, 16, 16, 64)        36928     \n",
            "_________________________________________________________________\n",
            "up_sampling2d_67 (UpSampling (None, 32, 32, 64)        0         \n",
            "_________________________________________________________________\n",
            "conv2d_310 (Conv2D)          (None, 32, 32, 64)        36928     \n",
            "_________________________________________________________________\n",
            "conv2d_311 (Conv2D)          (None, 32, 32, 64)        36928     \n",
            "_________________________________________________________________\n",
            "up_sampling2d_68 (UpSampling (None, 64, 64, 64)        0         \n",
            "_________________________________________________________________\n",
            "conv2d_312 (Conv2D)          (None, 64, 64, 64)        36928     \n",
            "_________________________________________________________________\n",
            "conv2d_313 (Conv2D)          (None, 64, 64, 64)        36928     \n",
            "_________________________________________________________________\n",
            "conv2d_314 (Conv2D)          (None, 64, 64, 3)         1731      \n",
            "=================================================================\n",
            "Total params: 432,323\n",
            "Trainable params: 432,323\n",
            "Non-trainable params: 0\n",
            "_________________________________________________________________\n",
            "Model: \"sequential_47\"\n",
            "_________________________________________________________________\n",
            "Layer (type)                 Output Shape              Param #   \n",
            "=================================================================\n",
            "dense_36 (Dense)             (None, 4096)              135168    \n",
            "_________________________________________________________________\n",
            "reshape_23 (Reshape)         (None, 8, 8, 64)          0         \n",
            "_________________________________________________________________\n",
            "conv2d_324 (Conv2D)          (None, 8, 8, 64)          36928     \n",
            "_________________________________________________________________\n",
            "conv2d_325 (Conv2D)          (None, 8, 8, 64)          36928     \n",
            "_________________________________________________________________\n",
            "up_sampling2d_69 (UpSampling (None, 16, 16, 64)        0         \n",
            "_________________________________________________________________\n",
            "conv2d_326 (Conv2D)          (None, 16, 16, 64)        36928     \n",
            "_________________________________________________________________\n",
            "conv2d_327 (Conv2D)          (None, 16, 16, 64)        36928     \n",
            "_________________________________________________________________\n",
            "up_sampling2d_70 (UpSampling (None, 32, 32, 64)        0         \n",
            "_________________________________________________________________\n",
            "conv2d_328 (Conv2D)          (None, 32, 32, 64)        36928     \n",
            "_________________________________________________________________\n",
            "conv2d_329 (Conv2D)          (None, 32, 32, 64)        36928     \n",
            "_________________________________________________________________\n",
            "up_sampling2d_71 (UpSampling (None, 64, 64, 64)        0         \n",
            "_________________________________________________________________\n",
            "conv2d_330 (Conv2D)          (None, 64, 64, 64)        36928     \n",
            "_________________________________________________________________\n",
            "conv2d_331 (Conv2D)          (None, 64, 64, 64)        36928     \n",
            "_________________________________________________________________\n",
            "conv2d_332 (Conv2D)          (None, 64, 64, 3)         1731      \n",
            "=================================================================\n",
            "Total params: 432,323\n",
            "Trainable params: 432,323\n",
            "Non-trainable params: 0\n",
            "_________________________________________________________________\n"
          ],
          "name": "stdout"
        }
      ]
    }
  ]
}