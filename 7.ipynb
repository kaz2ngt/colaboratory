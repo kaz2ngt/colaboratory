{
  "nbformat": 4,
  "nbformat_minor": 0,
  "metadata": {
    "colab": {
      "name": "7.ipynb",
      "version": "0.3.2",
      "provenance": [],
      "include_colab_link": true
    },
    "kernelspec": {
      "name": "python3",
      "display_name": "Python 3"
    }
  },
  "cells": [
    {
      "cell_type": "markdown",
      "metadata": {
        "id": "view-in-github",
        "colab_type": "text"
      },
      "source": [
        "<a href=\"https://colab.research.google.com/github/kaz2ngt/colaboratory/blob/master/7.ipynb\" target=\"_parent\"><img src=\"https://colab.research.google.com/assets/colab-badge.svg\" alt=\"Open In Colab\"/></a>"
      ]
    },
    {
      "cell_type": "markdown",
      "metadata": {
        "id": "YIb3D-M9pY4g",
        "colab_type": "text"
      },
      "source": [
        "# 7_1: Dropoutレイヤーの使用例"
      ]
    },
    {
      "cell_type": "code",
      "metadata": {
        "id": "oqSryuHWprUf",
        "colab_type": "code",
        "colab": {
          "base_uri": "https://localhost:8080/",
          "height": 139
        },
        "outputId": "130d0894-9a4f-4a00-add9-9cd4fbbac19c"
      },
      "source": [
        "# Dropoutレイヤーを含む、Sequentialモデルの例\n",
        "from tensorflow.python.keras.models import Sequential\n",
        "from tensorflow.python.keras.layers import Dense, Dropout\n",
        "\n",
        "model = Sequential()\n",
        "model.add(Dense(64, activation='relu', input_dim=20))\n",
        "model.add(Dropout(0.5)) # Dropoutをrate=0.5で適用\n",
        "model.add(Dense(64, activation='relu'))\n",
        "model.add(Dropout(0.5))\n",
        "model.add(Dense(10, activation='softmax'))\n",
        "\n",
        "model.compile(\n",
        "    loss='categorical_crossentropy',\n",
        "    optimizer='SGD',\n",
        "    metrics=['accuracy']\n",
        ")"
      ],
      "execution_count": 1,
      "outputs": [
        {
          "output_type": "stream",
          "text": [
            "WARNING:tensorflow:From /usr/local/lib/python3.6/dist-packages/tensorflow/python/ops/resource_variable_ops.py:435: colocate_with (from tensorflow.python.framework.ops) is deprecated and will be removed in a future version.\n",
            "Instructions for updating:\n",
            "Colocations handled automatically by placer.\n",
            "WARNING:tensorflow:From /usr/local/lib/python3.6/dist-packages/tensorflow/python/keras/layers/core.py:143: calling dropout (from tensorflow.python.ops.nn_ops) with keep_prob is deprecated and will be removed in a future version.\n",
            "Instructions for updating:\n",
            "Please use `rate` instead of `keep_prob`. Rate should be set to `rate = 1 - keep_prob`.\n"
          ],
          "name": "stdout"
        }
      ]
    },
    {
      "cell_type": "markdown",
      "metadata": {
        "id": "5QtbmX3bsfTA",
        "colab_type": "text"
      },
      "source": [
        "# 7_2: BatchNormalizationレイヤーの使用例"
      ]
    },
    {
      "cell_type": "code",
      "metadata": {
        "id": "dZGVW1YQvrvr",
        "colab_type": "code",
        "colab": {}
      },
      "source": [
        "# コード省略"
      ],
      "execution_count": 0,
      "outputs": []
    },
    {
      "cell_type": "markdown",
      "metadata": {
        "id": "FimbAhgfsui4",
        "colab_type": "text"
      },
      "source": [
        "# 7_3: Lambdaレイヤーの使用例"
      ]
    },
    {
      "cell_type": "code",
      "metadata": {
        "id": "OPW13TMAvuRR",
        "colab_type": "code",
        "colab": {}
      },
      "source": [
        "# コード省略"
      ],
      "execution_count": 0,
      "outputs": []
    },
    {
      "cell_type": "markdown",
      "metadata": {
        "id": "CpAs8oX6vgEo",
        "colab_type": "text"
      },
      "source": [
        "# 7_4: レイヤーの引数を使って活性化関数を追加する例"
      ]
    },
    {
      "cell_type": "code",
      "metadata": {
        "id": "6k0DJ9O-vvLg",
        "colab_type": "code",
        "colab": {}
      },
      "source": [
        "# コード省略"
      ],
      "execution_count": 0,
      "outputs": []
    },
    {
      "cell_type": "markdown",
      "metadata": {
        "id": "zUzuHqSWvlfE",
        "colab_type": "text"
      },
      "source": [
        "# 7_5: Activationレイヤーを呼び出して活性関数を生成・追加する例"
      ]
    },
    {
      "cell_type": "code",
      "metadata": {
        "id": "M6zWKt2cvv1g",
        "colab_type": "code",
        "colab": {}
      },
      "source": [
        "# コード省略"
      ],
      "execution_count": 0,
      "outputs": []
    },
    {
      "cell_type": "markdown",
      "metadata": {
        "id": "3U-QcqbKvwpG",
        "colab_type": "text"
      },
      "source": [
        "# 7_6: Clipped ReLUの例"
      ]
    },
    {
      "cell_type": "code",
      "metadata": {
        "id": "SjMk8nKVv3ik",
        "colab_type": "code",
        "colab": {}
      },
      "source": [
        "# コード省略"
      ],
      "execution_count": 0,
      "outputs": []
    },
    {
      "cell_type": "markdown",
      "metadata": {
        "id": "X9LNiu__v2Rv",
        "colab_type": "text"
      },
      "source": [
        "# 7_7: ジェネレータの生成"
      ]
    },
    {
      "cell_type": "code",
      "metadata": {
        "id": "eyuwvqt7v9J6",
        "colab_type": "code",
        "colab": {}
      },
      "source": [
        "# コード省略"
      ],
      "execution_count": 0,
      "outputs": []
    },
    {
      "cell_type": "markdown",
      "metadata": {
        "id": "mM3Y8LV_wAfc",
        "colab_type": "text"
      },
      "source": [
        "# 7_8: イテレータの生成とデータの取得"
      ]
    },
    {
      "cell_type": "code",
      "metadata": {
        "id": "aOH8biDSwEUZ",
        "colab_type": "code",
        "colab": {}
      },
      "source": [
        "# コード省略"
      ],
      "execution_count": 0,
      "outputs": []
    },
    {
      "cell_type": "markdown",
      "metadata": {
        "id": "w1h7P3EUwFAZ",
        "colab_type": "text"
      },
      "source": [
        "# 7_9: イテレータを用いたモデルの学習"
      ]
    },
    {
      "cell_type": "code",
      "metadata": {
        "id": "0LCBP6zawJH_",
        "colab_type": "code",
        "colab": {}
      },
      "source": [
        "# コード省略"
      ],
      "execution_count": 0,
      "outputs": []
    }
  ]
}