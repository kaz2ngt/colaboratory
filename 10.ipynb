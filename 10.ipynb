{
  "nbformat": 4,
  "nbformat_minor": 0,
  "metadata": {
    "colab": {
      "name": "10.ipynb",
      "version": "0.3.2",
      "provenance": [],
      "toc_visible": true,
      "include_colab_link": true
    },
    "kernelspec": {
      "name": "python3",
      "display_name": "Python 3"
    },
    "accelerator": "GPU"
  },
  "cells": [
    {
      "cell_type": "markdown",
      "metadata": {
        "id": "view-in-github",
        "colab_type": "text"
      },
      "source": [
        "<a href=\"https://colab.research.google.com/github/kaz2ngt/colaboratory/blob/master/10.ipynb\" target=\"_parent\"><img src=\"https://colab.research.google.com/assets/colab-badge.svg\" alt=\"Open In Colab\"/></a>"
      ]
    },
    {
      "cell_type": "markdown",
      "metadata": {
        "id": "tvWdxUWugq9w",
        "colab_type": "text"
      },
      "source": [
        "# リストPART2"
      ]
    },
    {
      "cell_type": "code",
      "metadata": {
        "id": "T8EVBCpFgtCd",
        "colab_type": "code",
        "colab": {}
      },
      "source": [
        "import os\n",
        "import glob\n",
        "import math\n",
        "import random\n",
        "\n",
        "import numpy as np\n",
        "import matplotlib.pyplot as plt\n",
        "\n",
        "from tensorflow.python import keras\n",
        "from tensorflow.python.keras import backend as K\n",
        "from tensorflow.python.keras.models import Model, Sequential\n",
        "from tensorflow.python.keras.layers import Conv2D, Dense, Input, MaxPooling2D, UpSampling2D, Lambda\n",
        "from tensorflow.python.keras.preprocessing.image import load_img, img_to_array, array_to_img, ImageDataGenerator"
      ],
      "execution_count": 0,
      "outputs": []
    },
    {
      "cell_type": "markdown",
      "metadata": {
        "id": "euS9m8yah8fm",
        "colab_type": "text"
      },
      "source": [
        "# 10_1: 低解像度の画像の生成"
      ]
    },
    {
      "cell_type": "code",
      "metadata": {
        "id": "Yz-gE1r4h_ZM",
        "colab_type": "code",
        "colab": {}
      },
      "source": [
        "def drop_resolution(x, scale=3.0):\n",
        "  size = (x.shape[0], x.shape[1])\n",
        "  small_size = (int(size[0]/scale), int(size[1]/scale))\n",
        "  img = array_to_img(x)\n",
        "  small_img = img.resize(small_size, 3)\n",
        "  return img_to_array(small_img.resize(img.size, 3))"
      ],
      "execution_count": 0,
      "outputs": []
    },
    {
      "cell_type": "markdown",
      "metadata": {
        "id": "2Np0OLBCijJW",
        "colab_type": "text"
      },
      "source": [
        "# 10_2: ジェネレータの定義"
      ]
    },
    {
      "cell_type": "code",
      "metadata": {
        "id": "WylTP6EeioVF",
        "colab_type": "code",
        "colab": {}
      },
      "source": [
        "def data_generator(data_dir, mode, scale=2.0, target_size=(200, 200), batch_size=32, shuffle=True):\n",
        "  for imgs in ImageDataGenerator().flow_from_directory(\n",
        "      directory=data_dir,\n",
        "      classes=[mode],\n",
        "      class_mode=None,\n",
        "      color_mode='rgb',\n",
        "      target_size=target_size,\n",
        "      batch_size=batch_size,\n",
        "      shuffle=shuffle\n",
        "  ):\n",
        "      x = np.array([\n",
        "          drop_resolution(img, scale) for img in imgs\n",
        "      ])\n",
        "      yield x/255., imgs/255."
      ],
      "execution_count": 0,
      "outputs": []
    },
    {
      "cell_type": "markdown",
      "metadata": {
        "id": "h_c8lUeKjYut",
        "colab_type": "text"
      },
      "source": [
        "# 10_3: data_generatorの利用"
      ]
    },
    {
      "cell_type": "code",
      "metadata": {
        "id": "h-0kciK4kRn4",
        "colab_type": "code",
        "colab": {}
      },
      "source": [
        "# dataの解凍\n",
        "#!unzip data.zip"
      ],
      "execution_count": 0,
      "outputs": []
    },
    {
      "cell_type": "code",
      "metadata": {
        "id": "UvTiMMBVjf-O",
        "colab_type": "code",
        "colab": {
          "base_uri": "https://localhost:8080/",
          "height": 34
        },
        "outputId": "9c86beb5-8dc8-4a3c-822a-e72a9a7087d8"
      },
      "source": [
        "DATA_DIR = 'data/chap10/'\n",
        "N_TRAIN_DATA = 1000\n",
        "N_TEST_DATA = 100\n",
        "BATCH_SIZE = 32\n",
        "\n",
        "train_data_generator = data_generator(DATA_DIR, 'train', batch_size=BATCH_SIZE)\n",
        "test_x, test_y = next(\n",
        "    data_generator(\n",
        "        DATA_DIR,\n",
        "        'test',\n",
        "        batch_size=N_TEST_DATA,\n",
        "        shuffle=False\n",
        "    )\n",
        ")"
      ],
      "execution_count": 6,
      "outputs": [
        {
          "output_type": "stream",
          "text": [
            "Found 100 images belonging to 1 classes.\n"
          ],
          "name": "stdout"
        }
      ]
    },
    {
      "cell_type": "markdown",
      "metadata": {
        "id": "Ez-tdkSQlRwU",
        "colab_type": "text"
      },
      "source": [
        "# 10_4: SRCNNの定義"
      ]
    },
    {
      "cell_type": "code",
      "metadata": {
        "id": "r0skzgJLlVES",
        "colab_type": "code",
        "colab": {
          "base_uri": "https://localhost:8080/",
          "height": 343
        },
        "outputId": "661a157f-c16a-4a68-a0aa-a6b85c9f8042"
      },
      "source": [
        "model = Sequential()\n",
        "model.add(Conv2D(\n",
        "    filters=64,\n",
        "    kernel_size=9,\n",
        "    padding='same',\n",
        "    activation='relu',\n",
        "    input_shape=(None, None, 3)\n",
        "))\n",
        "model.add(Conv2D(\n",
        "    filters=32,\n",
        "    kernel_size=1,\n",
        "    padding='same',\n",
        "    activation='relu'\n",
        "))\n",
        "model.add(Conv2D(\n",
        "    filters=3,\n",
        "    kernel_size=5,\n",
        "    padding='same'\n",
        "))\n",
        "\n",
        "model.summary()"
      ],
      "execution_count": 7,
      "outputs": [
        {
          "output_type": "stream",
          "text": [
            "WARNING: Logging before flag parsing goes to stderr.\n",
            "W0703 06:59:34.467530 140378264364928 deprecation.py:506] From /usr/local/lib/python3.6/dist-packages/tensorflow/python/ops/init_ops.py:1251: calling VarianceScaling.__init__ (from tensorflow.python.ops.init_ops) with dtype is deprecated and will be removed in a future version.\n",
            "Instructions for updating:\n",
            "Call initializer instance with the dtype argument instead of passing it to the constructor\n"
          ],
          "name": "stderr"
        },
        {
          "output_type": "stream",
          "text": [
            "Model: \"sequential\"\n",
            "_________________________________________________________________\n",
            "Layer (type)                 Output Shape              Param #   \n",
            "=================================================================\n",
            "conv2d (Conv2D)              (None, None, None, 64)    15616     \n",
            "_________________________________________________________________\n",
            "conv2d_1 (Conv2D)            (None, None, None, 32)    2080      \n",
            "_________________________________________________________________\n",
            "conv2d_2 (Conv2D)            (None, None, None, 3)     2403      \n",
            "=================================================================\n",
            "Total params: 20,099\n",
            "Trainable params: 20,099\n",
            "Non-trainable params: 0\n",
            "_________________________________________________________________\n"
          ],
          "name": "stdout"
        }
      ]
    },
    {
      "cell_type": "markdown",
      "metadata": {
        "id": "aO3gPhQNmj__",
        "colab_type": "text"
      },
      "source": [
        "# 10_5: ピーク信号対雑音比の定義"
      ]
    },
    {
      "cell_type": "code",
      "metadata": {
        "id": "F1RwyPwWmpEM",
        "colab_type": "code",
        "colab": {}
      },
      "source": [
        "def psnr(y_true, y_pred):\n",
        "  return -10*K.log(\n",
        "      K.mean(K.flatten((y_true - y_pred))**2)\n",
        "  )/np.log(10)"
      ],
      "execution_count": 0,
      "outputs": []
    },
    {
      "cell_type": "markdown",
      "metadata": {
        "id": "O4FlnxsSnMqE",
        "colab_type": "text"
      },
      "source": [
        "# 10_6: PSNRをmetricsに指定して学習を実行"
      ]
    },
    {
      "cell_type": "code",
      "metadata": {
        "id": "rXNhTFoAnSe4",
        "colab_type": "code",
        "colab": {
          "base_uri": "https://localhost:8080/",
          "height": 1000
        },
        "outputId": "848bacd4-e16f-4e91-b318-03dffa894be0"
      },
      "source": [
        "model.compile(\n",
        "    loss='mean_squared_error',\n",
        "    optimizer='adam',\n",
        "    metrics=[psnr]\n",
        ")\n",
        "\n",
        "model.fit_generator(\n",
        "    train_data_generator,\n",
        "    validation_data=(test_x, test_y),\n",
        "    steps_per_epoch=N_TRAIN_DATA//BATCH_SIZE,\n",
        "    epochs=50\n",
        ")\n",
        "\n",
        "# テストデータに対して適用\n",
        "pred = model.predict(test_x)"
      ],
      "execution_count": 9,
      "outputs": [
        {
          "output_type": "stream",
          "text": [
            "Found 1000 images belonging to 1 classes.\n",
            "Epoch 1/50\n",
            "31/31 [==============================] - 8s 255ms/step - loss: 0.0420 - psnr: 15.4117 - val_loss: 0.0187 - val_psnr: 17.4070\n",
            "Epoch 2/50\n",
            "31/31 [==============================] - 4s 144ms/step - loss: 0.0134 - psnr: 18.7634 - val_loss: 0.0138 - val_psnr: 18.7664\n",
            "Epoch 3/50\n",
            "31/31 [==============================] - 4s 144ms/step - loss: 0.0099 - psnr: 20.0894 - val_loss: 0.0108 - val_psnr: 19.8987\n",
            "Epoch 4/50\n",
            "31/31 [==============================] - 4s 141ms/step - loss: 0.0074 - psnr: 21.3234 - val_loss: 0.0091 - val_psnr: 20.7208\n",
            "Epoch 5/50\n",
            "31/31 [==============================] - 4s 142ms/step - loss: 0.0072 - psnr: 21.4837 - val_loss: 0.0084 - val_psnr: 21.0373\n",
            "Epoch 6/50\n",
            "31/31 [==============================] - 4s 142ms/step - loss: 0.0061 - psnr: 22.2088 - val_loss: 0.0077 - val_psnr: 21.4466\n",
            "Epoch 7/50\n",
            "31/31 [==============================] - 4s 141ms/step - loss: 0.0055 - psnr: 22.6188 - val_loss: 0.0071 - val_psnr: 21.8325\n",
            "Epoch 8/50\n",
            "31/31 [==============================] - 4s 140ms/step - loss: 0.0051 - psnr: 23.0131 - val_loss: 0.0067 - val_psnr: 22.0849\n",
            "Epoch 9/50\n",
            "31/31 [==============================] - 4s 141ms/step - loss: 0.0048 - psnr: 23.2214 - val_loss: 0.0065 - val_psnr: 22.2117\n",
            "Epoch 10/50\n",
            "31/31 [==============================] - 4s 143ms/step - loss: 0.0047 - psnr: 23.3403 - val_loss: 0.0063 - val_psnr: 22.3464\n",
            "Epoch 11/50\n",
            "31/31 [==============================] - 4s 142ms/step - loss: 0.0047 - psnr: 23.3355 - val_loss: 0.0063 - val_psnr: 22.3358\n",
            "Epoch 12/50\n",
            "31/31 [==============================] - 4s 144ms/step - loss: 0.0046 - psnr: 23.4586 - val_loss: 0.0059 - val_psnr: 22.6922\n",
            "Epoch 13/50\n",
            "31/31 [==============================] - 4s 144ms/step - loss: 0.0041 - psnr: 23.9411 - val_loss: 0.0058 - val_psnr: 22.7929\n",
            "Epoch 14/50\n",
            "31/31 [==============================] - 4s 142ms/step - loss: 0.0044 - psnr: 23.6259 - val_loss: 0.0064 - val_psnr: 22.2546\n",
            "Epoch 15/50\n",
            "31/31 [==============================] - 4s 141ms/step - loss: 0.0043 - psnr: 23.7608 - val_loss: 0.0059 - val_psnr: 22.6823\n",
            "Epoch 16/50\n",
            "31/31 [==============================] - 4s 141ms/step - loss: 0.0042 - psnr: 23.8120 - val_loss: 0.0057 - val_psnr: 22.8236\n",
            "Epoch 17/50\n",
            "31/31 [==============================] - 4s 143ms/step - loss: 0.0052 - psnr: 23.0392 - val_loss: 0.0071 - val_psnr: 21.7021\n",
            "Epoch 18/50\n",
            "31/31 [==============================] - 4s 142ms/step - loss: 0.0046 - psnr: 23.4604 - val_loss: 0.0057 - val_psnr: 22.8196\n",
            "Epoch 19/50\n",
            "31/31 [==============================] - 4s 142ms/step - loss: 0.0040 - psnr: 24.0549 - val_loss: 0.0056 - val_psnr: 22.9310\n",
            "Epoch 20/50\n",
            "31/31 [==============================] - 4s 144ms/step - loss: 0.0040 - psnr: 24.0426 - val_loss: 0.0055 - val_psnr: 23.0237\n",
            "Epoch 21/50\n",
            "31/31 [==============================] - 5s 146ms/step - loss: 0.0039 - psnr: 24.1106 - val_loss: 0.0054 - val_psnr: 23.0454\n",
            "Epoch 22/50\n",
            "31/31 [==============================] - 5s 148ms/step - loss: 0.0038 - psnr: 24.2116 - val_loss: 0.0053 - val_psnr: 23.1769\n",
            "Epoch 23/50\n",
            "31/31 [==============================] - 4s 144ms/step - loss: 0.0038 - psnr: 24.2568 - val_loss: 0.0053 - val_psnr: 23.1307\n",
            "Epoch 24/50\n",
            "31/31 [==============================] - 5s 147ms/step - loss: 0.0040 - psnr: 24.0461 - val_loss: 0.0052 - val_psnr: 23.2338\n",
            "Epoch 25/50\n",
            "31/31 [==============================] - 5s 145ms/step - loss: 0.0038 - psnr: 24.2532 - val_loss: 0.0057 - val_psnr: 22.7860\n",
            "Epoch 26/50\n",
            "31/31 [==============================] - 4s 143ms/step - loss: 0.0040 - psnr: 24.0445 - val_loss: 0.0056 - val_psnr: 22.8938\n",
            "Epoch 27/50\n",
            "31/31 [==============================] - 4s 142ms/step - loss: 0.0040 - psnr: 24.0117 - val_loss: 0.0052 - val_psnr: 23.2761\n",
            "Epoch 28/50\n",
            "31/31 [==============================] - 4s 144ms/step - loss: 0.0038 - psnr: 24.3161 - val_loss: 0.0052 - val_psnr: 23.2015\n",
            "Epoch 29/50\n",
            "31/31 [==============================] - 4s 145ms/step - loss: 0.0041 - psnr: 23.9089 - val_loss: 0.0052 - val_psnr: 23.2380\n",
            "Epoch 30/50\n",
            "31/31 [==============================] - 4s 145ms/step - loss: 0.0039 - psnr: 24.1436 - val_loss: 0.0053 - val_psnr: 23.0913\n",
            "Epoch 31/50\n",
            "31/31 [==============================] - 4s 142ms/step - loss: 0.0039 - psnr: 24.1811 - val_loss: 0.0057 - val_psnr: 22.7462\n",
            "Epoch 32/50\n",
            "31/31 [==============================] - 4s 140ms/step - loss: 0.0038 - psnr: 24.2593 - val_loss: 0.0047 - val_psnr: 23.5467\n",
            "Epoch 33/50\n",
            "31/31 [==============================] - 5s 147ms/step - loss: 0.0040 - psnr: 24.1183 - val_loss: 0.0054 - val_psnr: 23.0075\n",
            "Epoch 34/50\n",
            "31/31 [==============================] - 4s 141ms/step - loss: 0.0038 - psnr: 24.2763 - val_loss: 0.0051 - val_psnr: 23.3446\n",
            "Epoch 35/50\n",
            "31/31 [==============================] - 4s 144ms/step - loss: 0.0040 - psnr: 24.0531 - val_loss: 0.0052 - val_psnr: 23.2260\n",
            "Epoch 36/50\n",
            "31/31 [==============================] - 4s 142ms/step - loss: 0.0039 - psnr: 24.1293 - val_loss: 0.0053 - val_psnr: 23.1096\n",
            "Epoch 37/50\n",
            "31/31 [==============================] - 4s 142ms/step - loss: 0.0036 - psnr: 24.5363 - val_loss: 0.0052 - val_psnr: 23.2658\n",
            "Epoch 38/50\n",
            "31/31 [==============================] - 4s 143ms/step - loss: 0.0041 - psnr: 23.9355 - val_loss: 0.0051 - val_psnr: 23.2891\n",
            "Epoch 39/50\n",
            "31/31 [==============================] - 4s 142ms/step - loss: 0.0036 - psnr: 24.4702 - val_loss: 0.0055 - val_psnr: 22.9757\n",
            "Epoch 40/50\n",
            "31/31 [==============================] - 4s 142ms/step - loss: 0.0038 - psnr: 24.2660 - val_loss: 0.0051 - val_psnr: 23.3418\n",
            "Epoch 41/50\n",
            "31/31 [==============================] - 4s 143ms/step - loss: 0.0039 - psnr: 24.2117 - val_loss: 0.0050 - val_psnr: 23.4375\n",
            "Epoch 42/50\n",
            "31/31 [==============================] - 4s 142ms/step - loss: 0.0036 - psnr: 24.4440 - val_loss: 0.0050 - val_psnr: 23.3967\n",
            "Epoch 43/50\n",
            "31/31 [==============================] - 4s 141ms/step - loss: 0.0042 - psnr: 23.8550 - val_loss: 0.0053 - val_psnr: 23.1415\n",
            "Epoch 44/50\n",
            "31/31 [==============================] - 4s 141ms/step - loss: 0.0037 - psnr: 24.3824 - val_loss: 0.0059 - val_psnr: 22.5939\n",
            "Epoch 45/50\n",
            "31/31 [==============================] - 4s 143ms/step - loss: 0.0041 - psnr: 23.9256 - val_loss: 0.0052 - val_psnr: 23.2245\n",
            "Epoch 46/50\n",
            "31/31 [==============================] - 4s 141ms/step - loss: 0.0038 - psnr: 24.2155 - val_loss: 0.0051 - val_psnr: 23.2930\n",
            "Epoch 47/50\n",
            "31/31 [==============================] - 4s 143ms/step - loss: 0.0039 - psnr: 24.1623 - val_loss: 0.0051 - val_psnr: 23.3202\n",
            "Epoch 48/50\n",
            "31/31 [==============================] - 4s 142ms/step - loss: 0.0038 - psnr: 24.3379 - val_loss: 0.0051 - val_psnr: 23.2906\n",
            "Epoch 49/50\n",
            "31/31 [==============================] - 4s 142ms/step - loss: 0.0039 - psnr: 24.1661 - val_loss: 0.0053 - val_psnr: 23.1384\n",
            "Epoch 50/50\n",
            "31/31 [==============================] - 4s 144ms/step - loss: 0.0036 - psnr: 24.5173 - val_loss: 0.0053 - val_psnr: 23.0800\n"
          ],
          "name": "stdout"
        }
      ]
    },
    {
      "cell_type": "markdown",
      "metadata": {
        "id": "vHrXGZgzoPbC",
        "colab_type": "text"
      },
      "source": [
        "# 10_7: モデルの構築"
      ]
    },
    {
      "cell_type": "code",
      "metadata": {
        "id": "5WO4apd9odyN",
        "colab_type": "code",
        "colab": {}
      },
      "source": [
        "from tensorflow.python.keras.layers import Add, Conv2DTranspose\n",
        "\n",
        "# 入力は任意のサイズで、3チャンネルの画像\n",
        "inputs = Input((None, None, 3), dtype='float')\n",
        "\n",
        "# Encoder\n",
        "conv1 = Conv2D(64, 3, padding='same')(inputs)\n",
        "conv1 = Conv2D(64, 3, padding='same')(conv1)\n",
        "\n",
        "conv2 = Conv2D(64, 3, strides=2, padding='same')(conv1)\n",
        "conv2 = Conv2D(64, 3, padding='same')(conv2)\n",
        "\n",
        "conv3 = Conv2D(64, 3, strides=2, padding='same')(conv2)\n",
        "conv3 = Conv2D(64, 3, padding='same')(conv3)\n",
        "\n",
        "# Decoder\n",
        "deconv3 = Conv2DTranspose(64, 3, padding='same')(conv3)\n",
        "deconv3 = Conv2DTranspose(64, 3, strides=2, padding='same')(deconv3)\n",
        "\n",
        "# Add() レイヤーを使ってスキップコネクションを表現\n",
        "merge2 = Add()([deconv3, conv2])\n",
        "deconv2 = Conv2DTranspose(64, 3, padding='same')(merge2)\n",
        "deconv2 = Conv2DTranspose(64, 3, strides=2, padding='same')(deconv2)\n",
        "merge1 = Add()([deconv2, conv1])\n",
        "deconv1 = Conv2DTranspose(64, 3, padding='same')(merge1)\n",
        "deconv1 = Conv2DTranspose(3, 3, padding='same')(deconv1)\n",
        "\n",
        "output = Add()([deconv1, inputs])\n",
        "\n",
        "model = Model(inputs, output)"
      ],
      "execution_count": 0,
      "outputs": []
    }
  ]
}