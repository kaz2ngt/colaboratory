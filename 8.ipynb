{
  "nbformat": 4,
  "nbformat_minor": 0,
  "metadata": {
    "colab": {
      "name": "8.ipynb",
      "version": "0.3.2",
      "provenance": [],
      "toc_visible": true,
      "include_colab_link": true
    },
    "kernelspec": {
      "name": "python3",
      "display_name": "Python 3"
    },
    "accelerator": "GPU"
  },
  "cells": [
    {
      "cell_type": "markdown",
      "metadata": {
        "id": "view-in-github",
        "colab_type": "text"
      },
      "source": [
        "<a href=\"https://colab.research.google.com/github/kaz2ngt/colaboratory/blob/master/8.ipynb\" target=\"_parent\"><img src=\"https://colab.research.google.com/assets/colab-badge.svg\" alt=\"Open In Colab\"/></a>"
      ]
    },
    {
      "cell_type": "markdown",
      "metadata": {
        "id": "bxSpCZYCw8JD",
        "colab_type": "text"
      },
      "source": [
        "# リストPART2"
      ]
    },
    {
      "cell_type": "code",
      "metadata": {
        "id": "O_MnhEKHxDAT",
        "colab_type": "code",
        "colab": {}
      },
      "source": [
        "import os\n",
        "import glob\n",
        "import math\n",
        "import random\n",
        "\n",
        "import numpy as np\n",
        "import matplotlib.pyplot as plt\n",
        "\n",
        "from tensorflow.python import keras\n",
        "from tensorflow.python.keras import backend as K\n",
        "from tensorflow.python.keras.models import Model, Sequential\n",
        "from tensorflow.python.keras.layers import Conv2D, Dense, Input, MaxPooling2D, UpSampling2D, Lambda\n",
        "from tensorflow.python.keras.preprocessing.image import load_img, img_to_array, array_to_img, ImageDataGenerator"
      ],
      "execution_count": 0,
      "outputs": []
    },
    {
      "cell_type": "markdown",
      "metadata": {
        "id": "EeRA2ciMqSEy",
        "colab_type": "text"
      },
      "source": [
        "# 8_1: MNISTデータセットの読み込みと前処理"
      ]
    },
    {
      "cell_type": "code",
      "metadata": {
        "id": "Ei89zouzqaog",
        "colab_type": "code",
        "colab": {
          "base_uri": "https://localhost:8080/",
          "height": 71
        },
        "outputId": "65507c3b-6a2e-4ef1-c4e7-7db080db0110"
      },
      "source": [
        "from tensorflow.python.keras.datasets import mnist\n",
        "\n",
        "(x_train, _), (x_test, _) = mnist.load_data()\n",
        "# CNNで扱いやすい形に変換\n",
        "x_train = x_train.reshape(-1, 28, 28, 1)\n",
        "x_test = x_test.reshape(-1, 28, 28, 1)\n",
        "# 画像を0-1の範囲に正規化\n",
        "x_train = x_train/255.\n",
        "x_test = x_test/255."
      ],
      "execution_count": 4,
      "outputs": [
        {
          "output_type": "stream",
          "text": [
            "Downloading data from https://storage.googleapis.com/tensorflow/tf-keras-datasets/mnist.npz\n",
            "11493376/11490434 [==============================] - 0s 0us/step\n"
          ],
          "name": "stdout"
        }
      ]
    },
    {
      "cell_type": "markdown",
      "metadata": {
        "id": "h0aVeMPkrCus",
        "colab_type": "text"
      },
      "source": [
        "# 8_2: マスキングノイズを加えて、疑似ノイズデータを生成"
      ]
    },
    {
      "cell_type": "code",
      "metadata": {
        "id": "GcULT8AUrG_C",
        "colab_type": "code",
        "colab": {}
      },
      "source": [
        "def make_masking_noise_data(data_x, percent=0.1):\n",
        "  size = data_x.shape\n",
        "  masking = np.random.binomial(n=1, p=percent, size=size)\n",
        "  return data_x*masking\n",
        "\n",
        "x_train_masked = make_masking_noise_data(x_train)\n",
        "x_test_masked = make_masking_noise_data(x_test)"
      ],
      "execution_count": 0,
      "outputs": []
    },
    {
      "cell_type": "markdown",
      "metadata": {
        "id": "2USz-4uxrfub",
        "colab_type": "text"
      },
      "source": [
        "# 8_3: ガウシアンノイズを加えて、疑似ノイズデータを生成"
      ]
    },
    {
      "cell_type": "code",
      "metadata": {
        "id": "ywbY-4oFrlSx",
        "colab_type": "code",
        "colab": {}
      },
      "source": [
        "def make_gaussian_noise_data(data_x, scale=0.8):\n",
        "  gaussian_data_x = data_x + np.random.normal(loc=0, scale=scale, size=data_x.shape)\n",
        "  gaussian_data_x = np.clip(gaussian_data_x, 0, 1) \n",
        "  return gaussian_data_x\n",
        "\n",
        "x_train_gauss = make_gaussian_noise_data(x_train)\n",
        "x_test_gauss = make_gaussian_noise_data(x_test)"
      ],
      "execution_count": 0,
      "outputs": []
    },
    {
      "cell_type": "markdown",
      "metadata": {
        "id": "3Nd-FkSTsM9g",
        "colab_type": "text"
      },
      "source": [
        "# 8_4: ノイズを加えた画像とオリジナル画像との比較"
      ]
    },
    {
      "cell_type": "code",
      "metadata": {
        "id": "VVtSvSdXsSQg",
        "colab_type": "code",
        "colab": {
          "base_uri": "https://localhost:8080/",
          "height": 101
        },
        "outputId": "f0d766bb-ef18-4a49-e2b6-8295c0e9a4eb"
      },
      "source": [
        "from IPython.display import display_png\n",
        "\n",
        "display_png(array_to_img(x_train[0]))\n",
        "display_png(array_to_img(x_train_gauss[0]))\n",
        "display_png(array_to_img(x_train_masked[0]))"
      ],
      "execution_count": 7,
      "outputs": [
        {
          "output_type": "display_data",
          "data": {
            "image/png": "[encoded data removed]"
          },
          "metadata": {
            "tags": []
          }
        },
        {
          "output_type": "display_data",
          "data": {
            "image/png": "[encoded data removed]"
          },
          "metadata": {
            "tags": []
          }
        },
        {
          "output_type": "display_data",
          "data": {
            "image/png": "[encoded data removed]"
          },
          "metadata": {
            "tags": []
          }
        }
      ]
    },
    {
      "cell_type": "markdown",
      "metadata": {
        "id": "2v1Zc_dEsiN_",
        "colab_type": "text"
      },
      "source": [
        "# 8_5: CAEモデルの構築"
      ]
    },
    {
      "cell_type": "code",
      "metadata": {
        "id": "NlAHS5ymslsA",
        "colab_type": "code",
        "colab": {
          "base_uri": "https://localhost:8080/",
          "height": 156
        },
        "outputId": "cae206b9-ff15-4021-e05f-0589e5eebae7"
      },
      "source": [
        "autoencoder = Sequential()\n",
        "\n",
        "# Encoder箇所\n",
        "autoencoder.add(\n",
        "    Conv2D(\n",
        "        16,\n",
        "        (3, 3),\n",
        "        1,\n",
        "        activation='relu',\n",
        "        padding='same',\n",
        "        input_shape=(28, 28, 1)\n",
        "    )\n",
        ")\n",
        "autoencoder.add(\n",
        "    MaxPooling2D(\n",
        "        (2, 2),\n",
        "        padding='same'\n",
        "    )\n",
        ")\n",
        "autoencoder.add(\n",
        "    Conv2D(\n",
        "        8,\n",
        "        (3, 3),\n",
        "        1,\n",
        "        activation='relu',\n",
        "        padding='same',\n",
        "    )\n",
        ")\n",
        "autoencoder.add(\n",
        "    MaxPooling2D(\n",
        "        (2, 2),\n",
        "        padding='same'\n",
        "    )\n",
        ")\n",
        "\n",
        "# Decoder箇所\n",
        "autoencoder.add(\n",
        "    Conv2D(\n",
        "        8,\n",
        "        (3, 3),\n",
        "        1,\n",
        "        activation='relu',\n",
        "        padding='same',\n",
        "    )\n",
        ")\n",
        "autoencoder.add(UpSampling2D((2, 2)))\n",
        "autoencoder.add(\n",
        "    Conv2D(\n",
        "        16,\n",
        "        (3, 3),\n",
        "        1,\n",
        "        activation='relu',\n",
        "        padding='same',\n",
        "    )\n",
        ")\n",
        "autoencoder.add(UpSampling2D((2, 2)))\n",
        "autoencoder.add(\n",
        "    Conv2D(\n",
        "        1,\n",
        "        (3, 3),\n",
        "        1,\n",
        "        activation='sigmoid',\n",
        "        padding='same',\n",
        "    )\n",
        ")\n",
        "\n",
        "autoencoder.compile(\n",
        "    optimizer='adam',\n",
        "    loss='binary_crossentropy'\n",
        ")\n",
        "initial_weights = autoencoder.get_weights()"
      ],
      "execution_count": 8,
      "outputs": [
        {
          "output_type": "stream",
          "text": [
            "WARNING: Logging before flag parsing goes to stderr.\n",
            "W0618 08:40:29.121377 139667616905088 deprecation.py:506] From /usr/local/lib/python3.6/dist-packages/tensorflow/python/ops/init_ops.py:1251: calling VarianceScaling.__init__ (from tensorflow.python.ops.init_ops) with dtype is deprecated and will be removed in a future version.\n",
            "Instructions for updating:\n",
            "Call initializer instance with the dtype argument instead of passing it to the constructor\n",
            "W0618 08:40:29.263159 139667616905088 deprecation.py:323] From /usr/local/lib/python3.6/dist-packages/tensorflow/python/ops/nn_impl.py:180: add_dispatch_support.<locals>.wrapper (from tensorflow.python.ops.array_ops) is deprecated and will be removed in a future version.\n",
            "Instructions for updating:\n",
            "Use tf.where in 2.0, which has the same broadcast rule as np.where\n"
          ],
          "name": "stderr"
        }
      ]
    },
    {
      "cell_type": "markdown",
      "metadata": {
        "id": "7oZXxskluX9X",
        "colab_type": "text"
      },
      "source": [
        "# 8_6: モデルのサマリを確認"
      ]
    },
    {
      "cell_type": "code",
      "metadata": {
        "id": "wRo_oVvVubqM",
        "colab_type": "code",
        "colab": {
          "base_uri": "https://localhost:8080/",
          "height": 479
        },
        "outputId": "08757865-ad1d-421a-a360-d4683b819ed7"
      },
      "source": [
        "autoencoder.summary()"
      ],
      "execution_count": 9,
      "outputs": [
        {
          "output_type": "stream",
          "text": [
            "Model: \"sequential\"\n",
            "_________________________________________________________________\n",
            "Layer (type)                 Output Shape              Param #   \n",
            "=================================================================\n",
            "conv2d (Conv2D)              (None, 28, 28, 16)        160       \n",
            "_________________________________________________________________\n",
            "max_pooling2d (MaxPooling2D) (None, 14, 14, 16)        0         \n",
            "_________________________________________________________________\n",
            "conv2d_1 (Conv2D)            (None, 14, 14, 8)         1160      \n",
            "_________________________________________________________________\n",
            "max_pooling2d_1 (MaxPooling2 (None, 7, 7, 8)           0         \n",
            "_________________________________________________________________\n",
            "conv2d_2 (Conv2D)            (None, 7, 7, 8)           584       \n",
            "_________________________________________________________________\n",
            "up_sampling2d (UpSampling2D) (None, 14, 14, 8)         0         \n",
            "_________________________________________________________________\n",
            "conv2d_3 (Conv2D)            (None, 14, 14, 16)        1168      \n",
            "_________________________________________________________________\n",
            "up_sampling2d_1 (UpSampling2 (None, 28, 28, 16)        0         \n",
            "_________________________________________________________________\n",
            "conv2d_4 (Conv2D)            (None, 28, 28, 1)         145       \n",
            "=================================================================\n",
            "Total params: 3,217\n",
            "Trainable params: 3,217\n",
            "Non-trainable params: 0\n",
            "_________________________________________________________________\n"
          ],
          "name": "stdout"
        }
      ]
    },
    {
      "cell_type": "markdown",
      "metadata": {
        "id": "rfCNassXu-yU",
        "colab_type": "text"
      },
      "source": [
        "# 8_7: ガウシアンノイズデータを用いて学習"
      ]
    },
    {
      "cell_type": "code",
      "metadata": {
        "id": "Q8A-Y5NuvJAo",
        "colab_type": "code",
        "colab": {
          "base_uri": "https://localhost:8080/",
          "height": 394
        },
        "outputId": "87d02a64-cef0-42e7-e678-39415e222c06"
      },
      "source": [
        "autoencoder.fit(\n",
        "    x_train_gauss, # 入力：ガウシアンノイズデータ\n",
        "    x_train, # 正解：オリジナル画像\n",
        "    epochs=10, # 学習するエポック回数\n",
        "    batch_size=20, # バッチサイズ\n",
        "    shuffle=True # シャッフルデータにする\n",
        ")"
      ],
      "execution_count": 11,
      "outputs": [
        {
          "output_type": "stream",
          "text": [
            "Epoch 1/10\n",
            "60000/60000 [==============================] - 15s 245us/sample - loss: 0.1800\n",
            "Epoch 2/10\n",
            "60000/60000 [==============================] - 12s 197us/sample - loss: 0.1568\n",
            "Epoch 3/10\n",
            "60000/60000 [==============================] - 12s 197us/sample - loss: 0.1521\n",
            "Epoch 4/10\n",
            "60000/60000 [==============================] - 12s 196us/sample - loss: 0.1495\n",
            "Epoch 5/10\n",
            "60000/60000 [==============================] - 12s 201us/sample - loss: 0.1478\n",
            "Epoch 6/10\n",
            "60000/60000 [==============================] - 12s 198us/sample - loss: 0.1466\n",
            "Epoch 7/10\n",
            "60000/60000 [==============================] - 12s 194us/sample - loss: 0.1459\n",
            "Epoch 8/10\n",
            "60000/60000 [==============================] - 12s 194us/sample - loss: 0.1453\n",
            "Epoch 9/10\n",
            "60000/60000 [==============================] - 12s 194us/sample - loss: 0.1448\n",
            "Epoch 10/10\n",
            "60000/60000 [==============================] - 12s 193us/sample - loss: 0.1444\n"
          ],
          "name": "stdout"
        },
        {
          "output_type": "execute_result",
          "data": {
            "text/plain": [
              "<tensorflow.python.keras.callbacks.History at 0x7f069cc39588>"
            ]
          },
          "metadata": {
            "tags": []
          },
          "execution_count": 11
        }
      ]
    },
    {
      "cell_type": "markdown",
      "metadata": {
        "id": "gXhYw5LBvwRE",
        "colab_type": "text"
      },
      "source": [
        "# 8_8: ガウシアンノイズデータで学習したモデルの予測"
      ]
    },
    {
      "cell_type": "code",
      "metadata": {
        "id": "PPgrlvZgv4RP",
        "colab_type": "code",
        "colab": {}
      },
      "source": [
        "gauss_preds = autoencoder.predict(x_test_gauss)"
      ],
      "execution_count": 0,
      "outputs": []
    },
    {
      "cell_type": "markdown",
      "metadata": {
        "id": "NIkqd44Tv8p3",
        "colab_type": "text"
      },
      "source": [
        "# 8_9: ガウシアンノイズ画像、CAEモデル、オリジナル画像の予測の比較"
      ]
    },
    {
      "cell_type": "code",
      "metadata": {
        "id": "Ksa_86kVwDSt",
        "colab_type": "code",
        "colab": {
          "base_uri": "https://localhost:8080/",
          "height": 1027
        },
        "outputId": "4a62c131-4aa7-4fdf-d4f0-d0a12c78f718"
      },
      "source": [
        "for i in range(10):\n",
        "  display_png(array_to_img(x_test[i]))\n",
        "  display_png(array_to_img(x_test_gauss[i]))\n",
        "  display_png(array_to_img(gauss_preds[i]))\n",
        "  print('-'*25)"
      ],
      "execution_count": 14,
      "outputs": [
        {
          "output_type": "display_data",
          "data": {
            "image/png": "[encoded data removed]"
          },
          "metadata": {
            "tags": []
          }
        },
        {
          "output_type": "display_data",
          "data": {
            "image/png": "[encoded data removed]"
          },
          "metadata": {
            "tags": []
          }
        },
        {
          "output_type": "display_data",
          "data": {
            "image/png": "[encoded data removed]"
          },
          "metadata": {
            "tags": []
          }
        },
        {
          "output_type": "stream",
          "text": [
            "-------------------------\n"
          ],
          "name": "stdout"
        },
        {
          "output_type": "display_data",
          "data": {
            "image/png": "[encoded data removed]"
          },
          "metadata": {
            "tags": []
          }
        },
        {
          "output_type": "display_data",
          "data": {
            "image/png": "[encoded data removed]"
          },
          "metadata": {
            "tags": []
          }
        },
        {
          "output_type": "display_data",
          "data": {
            "image/png": "[encoded data removed]"
          },
          "metadata": {
            "tags": []
          }
        },
        {
          "output_type": "stream",
          "text": [
            "-------------------------\n"
          ],
          "name": "stdout"
        },
        {
          "output_type": "display_data",
          "data": {
            "image/png": "[encoded data removed]"
          },
          "metadata": {
            "tags": []
          }
        },
        {
          "output_type": "display_data",
          "data": {
            "image/png": "[encoded data removed]"
          },
          "metadata": {
            "tags": []
          }
        },
        {
          "output_type": "display_data",
          "data": {
            "image/png": "[encoded data removed]"
          },
          "metadata": {
            "tags": []
          }
        },
        {
          "output_type": "stream",
          "text": [
            "-------------------------\n"
          ],
          "name": "stdout"
        },
        {
          "output_type": "display_data",
          "data": {
            "image/png": "[encoded data removed]"
          },
          "metadata": {
            "tags": []
          }
        },
        {
          "output_type": "display_data",
          "data": {
            "image/png": "[encoded data removed]"
          },
          "metadata": {
            "tags": []
          }
        },
        {
          "output_type": "display_data",
          "data": {
            "image/png": "[encoded data removed]"
          },
          "metadata": {
            "tags": []
          }
        },
        {
          "output_type": "stream",
          "text": [
            "-------------------------\n"
          ],
          "name": "stdout"
        },
        {
          "output_type": "display_data",
          "data": {
            "image/png": "[encoded data removed]"
          },
          "metadata": {
            "tags": []
          }
        },
        {
          "output_type": "display_data",
          "data": {
            "image/png": "[encoded data removed]"
          },
          "metadata": {
            "tags": []
          }
        },
        {
          "output_type": "display_data",
          "data": {
            "image/png": "[encoded data removed]"
          },
          "metadata": {
            "tags": []
          }
        },
        {
          "output_type": "stream",
          "text": [
            "-------------------------\n"
          ],
          "name": "stdout"
        },
        {
          "output_type": "display_data",
          "data": {
            "image/png": "[encoded data removed]"
          },
          "metadata": {
            "tags": []
          }
        },
        {
          "output_type": "display_data",
          "data": {
            "image/png": "[encoded data removed]"
          },
          "metadata": {
            "tags": []
          }
        },
        {
          "output_type": "display_data",
          "data": {
            "image/png": "[encoded data removed]"
          },
          "metadata": {
            "tags": []
          }
        },
        {
          "output_type": "stream",
          "text": [
            "-------------------------\n"
          ],
          "name": "stdout"
        },
        {
          "output_type": "display_data",
          "data": {
            "image/png": "[encoded data removed]"
          },
          "metadata": {
            "tags": []
          }
        },
        {
          "output_type": "display_data",
          "data": {
            "image/png": "[encoded data removed]"
          },
          "metadata": {
            "tags": []
          }
        },
        {
          "output_type": "display_data",
          "data": {
            "image/png": "[encoded data removed]"
          },
          "metadata": {
            "tags": []
          }
        },
        {
          "output_type": "stream",
          "text": [
            "-------------------------\n"
          ],
          "name": "stdout"
        },
        {
          "output_type": "display_data",
          "data": {
            "image/png": "[encoded data removed]"
          },
          "metadata": {
            "tags": []
          }
        },
        {
          "output_type": "display_data",
          "data": {
            "image/png": "[encoded data removed]"
          },
          "metadata": {
            "tags": []
          }
        },
        {
          "output_type": "display_data",
          "data": {
            "image/png": "[encoded data removed]"
          },
          "metadata": {
            "tags": []
          }
        },
        {
          "output_type": "stream",
          "text": [
            "-------------------------\n"
          ],
          "name": "stdout"
        },
        {
          "output_type": "display_data",
          "data": {
            "image/png": "[encoded data removed]"
          },
          "metadata": {
            "tags": []
          }
        },
        {
          "output_type": "display_data",
          "data": {
            "image/png": "[encoded data removed]"
          },
          "metadata": {
            "tags": []
          }
        },
        {
          "output_type": "display_data",
          "data": {
            "image/png": "[encoded data removed]"
          },
          "metadata": {
            "tags": []
          }
        },
        {
          "output_type": "stream",
          "text": [
            "-------------------------\n"
          ],
          "name": "stdout"
        },
        {
          "output_type": "display_data",
          "data": {
            "image/png": "[encoded data removed]"
          },
          "metadata": {
            "tags": []
          }
        },
        {
          "output_type": "display_data",
          "data": {
            "image/png": "[encoded data removed]"
          },
          "metadata": {
            "tags": []
          }
        },
        {
          "output_type": "display_data",
          "data": {
            "image/png": "[encoded data removed]"
          },
          "metadata": {
            "tags": []
          }
        },
        {
          "output_type": "stream",
          "text": [
            "-------------------------\n"
          ],
          "name": "stdout"
        }
      ]
    }
  ]
}